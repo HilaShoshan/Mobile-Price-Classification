{
 "cells": [
  {
   "cell_type": "markdown",
   "metadata": {},
   "source": [
    "# This dataset includes sales data of mobile phones of various companies.\n",
    "# It is interesting to analyze the data to try to predict the price of a new mobile phone.\n",
    "# I will do Data Visualization & Analysis - analyze the data using various graphs and statistics.\n",
    "# In addition, I will try to find the best model to predict new results!"
   ]
  },
  {
   "cell_type": "code",
   "execution_count": 1,
   "metadata": {},
   "outputs": [],
   "source": [
    "import numpy as np \n",
    "import pandas as pd \n",
    "from pandas import Series, DataFrame\n",
    "import matplotlib.pyplot as plt\n",
    "%matplotlib notebook \n",
    "import seaborn as sns\n",
    "import warnings\n",
    "warnings.filterwarnings(\"ignore\")"
   ]
  },
  {
   "cell_type": "code",
   "execution_count": 2,
   "metadata": {},
   "outputs": [
    {
     "data": {
      "text/html": [
       "<div>\n",
       "<style scoped>\n",
       "    .dataframe tbody tr th:only-of-type {\n",
       "        vertical-align: middle;\n",
       "    }\n",
       "\n",
       "    .dataframe tbody tr th {\n",
       "        vertical-align: top;\n",
       "    }\n",
       "\n",
       "    .dataframe thead th {\n",
       "        text-align: right;\n",
       "    }\n",
       "</style>\n",
       "<table border=\"1\" class=\"dataframe\">\n",
       "  <thead>\n",
       "    <tr style=\"text-align: right;\">\n",
       "      <th></th>\n",
       "      <th>battery_power</th>\n",
       "      <th>blue</th>\n",
       "      <th>clock_speed</th>\n",
       "      <th>dual_sim</th>\n",
       "      <th>fc</th>\n",
       "      <th>four_g</th>\n",
       "      <th>int_memory</th>\n",
       "      <th>m_dep</th>\n",
       "      <th>mobile_wt</th>\n",
       "      <th>n_cores</th>\n",
       "      <th>...</th>\n",
       "      <th>px_height</th>\n",
       "      <th>px_width</th>\n",
       "      <th>ram</th>\n",
       "      <th>sc_h</th>\n",
       "      <th>sc_w</th>\n",
       "      <th>talk_time</th>\n",
       "      <th>three_g</th>\n",
       "      <th>touch_screen</th>\n",
       "      <th>wifi</th>\n",
       "      <th>price_range</th>\n",
       "    </tr>\n",
       "  </thead>\n",
       "  <tbody>\n",
       "    <tr>\n",
       "      <th>0</th>\n",
       "      <td>842</td>\n",
       "      <td>0</td>\n",
       "      <td>2.2</td>\n",
       "      <td>0</td>\n",
       "      <td>1</td>\n",
       "      <td>0</td>\n",
       "      <td>7</td>\n",
       "      <td>0.6</td>\n",
       "      <td>188</td>\n",
       "      <td>2</td>\n",
       "      <td>...</td>\n",
       "      <td>20</td>\n",
       "      <td>756</td>\n",
       "      <td>2549</td>\n",
       "      <td>9</td>\n",
       "      <td>7</td>\n",
       "      <td>19</td>\n",
       "      <td>0</td>\n",
       "      <td>0</td>\n",
       "      <td>1</td>\n",
       "      <td>1</td>\n",
       "    </tr>\n",
       "    <tr>\n",
       "      <th>1</th>\n",
       "      <td>1021</td>\n",
       "      <td>1</td>\n",
       "      <td>0.5</td>\n",
       "      <td>1</td>\n",
       "      <td>0</td>\n",
       "      <td>1</td>\n",
       "      <td>53</td>\n",
       "      <td>0.7</td>\n",
       "      <td>136</td>\n",
       "      <td>3</td>\n",
       "      <td>...</td>\n",
       "      <td>905</td>\n",
       "      <td>1988</td>\n",
       "      <td>2631</td>\n",
       "      <td>17</td>\n",
       "      <td>3</td>\n",
       "      <td>7</td>\n",
       "      <td>1</td>\n",
       "      <td>1</td>\n",
       "      <td>0</td>\n",
       "      <td>2</td>\n",
       "    </tr>\n",
       "    <tr>\n",
       "      <th>2</th>\n",
       "      <td>563</td>\n",
       "      <td>1</td>\n",
       "      <td>0.5</td>\n",
       "      <td>1</td>\n",
       "      <td>2</td>\n",
       "      <td>1</td>\n",
       "      <td>41</td>\n",
       "      <td>0.9</td>\n",
       "      <td>145</td>\n",
       "      <td>5</td>\n",
       "      <td>...</td>\n",
       "      <td>1263</td>\n",
       "      <td>1716</td>\n",
       "      <td>2603</td>\n",
       "      <td>11</td>\n",
       "      <td>2</td>\n",
       "      <td>9</td>\n",
       "      <td>1</td>\n",
       "      <td>1</td>\n",
       "      <td>0</td>\n",
       "      <td>2</td>\n",
       "    </tr>\n",
       "    <tr>\n",
       "      <th>3</th>\n",
       "      <td>615</td>\n",
       "      <td>1</td>\n",
       "      <td>2.5</td>\n",
       "      <td>0</td>\n",
       "      <td>0</td>\n",
       "      <td>0</td>\n",
       "      <td>10</td>\n",
       "      <td>0.8</td>\n",
       "      <td>131</td>\n",
       "      <td>6</td>\n",
       "      <td>...</td>\n",
       "      <td>1216</td>\n",
       "      <td>1786</td>\n",
       "      <td>2769</td>\n",
       "      <td>16</td>\n",
       "      <td>8</td>\n",
       "      <td>11</td>\n",
       "      <td>1</td>\n",
       "      <td>0</td>\n",
       "      <td>0</td>\n",
       "      <td>2</td>\n",
       "    </tr>\n",
       "    <tr>\n",
       "      <th>4</th>\n",
       "      <td>1821</td>\n",
       "      <td>1</td>\n",
       "      <td>1.2</td>\n",
       "      <td>0</td>\n",
       "      <td>13</td>\n",
       "      <td>1</td>\n",
       "      <td>44</td>\n",
       "      <td>0.6</td>\n",
       "      <td>141</td>\n",
       "      <td>2</td>\n",
       "      <td>...</td>\n",
       "      <td>1208</td>\n",
       "      <td>1212</td>\n",
       "      <td>1411</td>\n",
       "      <td>8</td>\n",
       "      <td>2</td>\n",
       "      <td>15</td>\n",
       "      <td>1</td>\n",
       "      <td>1</td>\n",
       "      <td>0</td>\n",
       "      <td>1</td>\n",
       "    </tr>\n",
       "    <tr>\n",
       "      <th>5</th>\n",
       "      <td>1859</td>\n",
       "      <td>0</td>\n",
       "      <td>0.5</td>\n",
       "      <td>1</td>\n",
       "      <td>3</td>\n",
       "      <td>0</td>\n",
       "      <td>22</td>\n",
       "      <td>0.7</td>\n",
       "      <td>164</td>\n",
       "      <td>1</td>\n",
       "      <td>...</td>\n",
       "      <td>1004</td>\n",
       "      <td>1654</td>\n",
       "      <td>1067</td>\n",
       "      <td>17</td>\n",
       "      <td>1</td>\n",
       "      <td>10</td>\n",
       "      <td>1</td>\n",
       "      <td>0</td>\n",
       "      <td>0</td>\n",
       "      <td>1</td>\n",
       "    </tr>\n",
       "    <tr>\n",
       "      <th>6</th>\n",
       "      <td>1821</td>\n",
       "      <td>0</td>\n",
       "      <td>1.7</td>\n",
       "      <td>0</td>\n",
       "      <td>4</td>\n",
       "      <td>1</td>\n",
       "      <td>10</td>\n",
       "      <td>0.8</td>\n",
       "      <td>139</td>\n",
       "      <td>8</td>\n",
       "      <td>...</td>\n",
       "      <td>381</td>\n",
       "      <td>1018</td>\n",
       "      <td>3220</td>\n",
       "      <td>13</td>\n",
       "      <td>8</td>\n",
       "      <td>18</td>\n",
       "      <td>1</td>\n",
       "      <td>0</td>\n",
       "      <td>1</td>\n",
       "      <td>3</td>\n",
       "    </tr>\n",
       "    <tr>\n",
       "      <th>7</th>\n",
       "      <td>1954</td>\n",
       "      <td>0</td>\n",
       "      <td>0.5</td>\n",
       "      <td>1</td>\n",
       "      <td>0</td>\n",
       "      <td>0</td>\n",
       "      <td>24</td>\n",
       "      <td>0.8</td>\n",
       "      <td>187</td>\n",
       "      <td>4</td>\n",
       "      <td>...</td>\n",
       "      <td>512</td>\n",
       "      <td>1149</td>\n",
       "      <td>700</td>\n",
       "      <td>16</td>\n",
       "      <td>3</td>\n",
       "      <td>5</td>\n",
       "      <td>1</td>\n",
       "      <td>1</td>\n",
       "      <td>1</td>\n",
       "      <td>0</td>\n",
       "    </tr>\n",
       "    <tr>\n",
       "      <th>8</th>\n",
       "      <td>1445</td>\n",
       "      <td>1</td>\n",
       "      <td>0.5</td>\n",
       "      <td>0</td>\n",
       "      <td>0</td>\n",
       "      <td>0</td>\n",
       "      <td>53</td>\n",
       "      <td>0.7</td>\n",
       "      <td>174</td>\n",
       "      <td>7</td>\n",
       "      <td>...</td>\n",
       "      <td>386</td>\n",
       "      <td>836</td>\n",
       "      <td>1099</td>\n",
       "      <td>17</td>\n",
       "      <td>1</td>\n",
       "      <td>20</td>\n",
       "      <td>1</td>\n",
       "      <td>0</td>\n",
       "      <td>0</td>\n",
       "      <td>0</td>\n",
       "    </tr>\n",
       "    <tr>\n",
       "      <th>9</th>\n",
       "      <td>509</td>\n",
       "      <td>1</td>\n",
       "      <td>0.6</td>\n",
       "      <td>1</td>\n",
       "      <td>2</td>\n",
       "      <td>1</td>\n",
       "      <td>9</td>\n",
       "      <td>0.1</td>\n",
       "      <td>93</td>\n",
       "      <td>5</td>\n",
       "      <td>...</td>\n",
       "      <td>1137</td>\n",
       "      <td>1224</td>\n",
       "      <td>513</td>\n",
       "      <td>19</td>\n",
       "      <td>10</td>\n",
       "      <td>12</td>\n",
       "      <td>1</td>\n",
       "      <td>0</td>\n",
       "      <td>0</td>\n",
       "      <td>0</td>\n",
       "    </tr>\n",
       "    <tr>\n",
       "      <th>10</th>\n",
       "      <td>769</td>\n",
       "      <td>1</td>\n",
       "      <td>2.9</td>\n",
       "      <td>1</td>\n",
       "      <td>0</td>\n",
       "      <td>0</td>\n",
       "      <td>9</td>\n",
       "      <td>0.1</td>\n",
       "      <td>182</td>\n",
       "      <td>5</td>\n",
       "      <td>...</td>\n",
       "      <td>248</td>\n",
       "      <td>874</td>\n",
       "      <td>3946</td>\n",
       "      <td>5</td>\n",
       "      <td>2</td>\n",
       "      <td>7</td>\n",
       "      <td>0</td>\n",
       "      <td>0</td>\n",
       "      <td>0</td>\n",
       "      <td>3</td>\n",
       "    </tr>\n",
       "    <tr>\n",
       "      <th>11</th>\n",
       "      <td>1520</td>\n",
       "      <td>1</td>\n",
       "      <td>2.2</td>\n",
       "      <td>0</td>\n",
       "      <td>5</td>\n",
       "      <td>1</td>\n",
       "      <td>33</td>\n",
       "      <td>0.5</td>\n",
       "      <td>177</td>\n",
       "      <td>8</td>\n",
       "      <td>...</td>\n",
       "      <td>151</td>\n",
       "      <td>1005</td>\n",
       "      <td>3826</td>\n",
       "      <td>14</td>\n",
       "      <td>9</td>\n",
       "      <td>13</td>\n",
       "      <td>1</td>\n",
       "      <td>1</td>\n",
       "      <td>1</td>\n",
       "      <td>3</td>\n",
       "    </tr>\n",
       "    <tr>\n",
       "      <th>12</th>\n",
       "      <td>1815</td>\n",
       "      <td>0</td>\n",
       "      <td>2.8</td>\n",
       "      <td>0</td>\n",
       "      <td>2</td>\n",
       "      <td>0</td>\n",
       "      <td>33</td>\n",
       "      <td>0.6</td>\n",
       "      <td>159</td>\n",
       "      <td>4</td>\n",
       "      <td>...</td>\n",
       "      <td>607</td>\n",
       "      <td>748</td>\n",
       "      <td>1482</td>\n",
       "      <td>18</td>\n",
       "      <td>0</td>\n",
       "      <td>2</td>\n",
       "      <td>1</td>\n",
       "      <td>0</td>\n",
       "      <td>0</td>\n",
       "      <td>1</td>\n",
       "    </tr>\n",
       "    <tr>\n",
       "      <th>13</th>\n",
       "      <td>803</td>\n",
       "      <td>1</td>\n",
       "      <td>2.1</td>\n",
       "      <td>0</td>\n",
       "      <td>7</td>\n",
       "      <td>0</td>\n",
       "      <td>17</td>\n",
       "      <td>1.0</td>\n",
       "      <td>198</td>\n",
       "      <td>4</td>\n",
       "      <td>...</td>\n",
       "      <td>344</td>\n",
       "      <td>1440</td>\n",
       "      <td>2680</td>\n",
       "      <td>7</td>\n",
       "      <td>1</td>\n",
       "      <td>4</td>\n",
       "      <td>1</td>\n",
       "      <td>0</td>\n",
       "      <td>1</td>\n",
       "      <td>2</td>\n",
       "    </tr>\n",
       "    <tr>\n",
       "      <th>14</th>\n",
       "      <td>1866</td>\n",
       "      <td>0</td>\n",
       "      <td>0.5</td>\n",
       "      <td>0</td>\n",
       "      <td>13</td>\n",
       "      <td>1</td>\n",
       "      <td>52</td>\n",
       "      <td>0.7</td>\n",
       "      <td>185</td>\n",
       "      <td>1</td>\n",
       "      <td>...</td>\n",
       "      <td>356</td>\n",
       "      <td>563</td>\n",
       "      <td>373</td>\n",
       "      <td>14</td>\n",
       "      <td>9</td>\n",
       "      <td>3</td>\n",
       "      <td>1</td>\n",
       "      <td>0</td>\n",
       "      <td>1</td>\n",
       "      <td>0</td>\n",
       "    </tr>\n",
       "    <tr>\n",
       "      <th>15</th>\n",
       "      <td>775</td>\n",
       "      <td>0</td>\n",
       "      <td>1.0</td>\n",
       "      <td>0</td>\n",
       "      <td>3</td>\n",
       "      <td>0</td>\n",
       "      <td>46</td>\n",
       "      <td>0.7</td>\n",
       "      <td>159</td>\n",
       "      <td>2</td>\n",
       "      <td>...</td>\n",
       "      <td>862</td>\n",
       "      <td>1864</td>\n",
       "      <td>568</td>\n",
       "      <td>17</td>\n",
       "      <td>15</td>\n",
       "      <td>11</td>\n",
       "      <td>1</td>\n",
       "      <td>1</td>\n",
       "      <td>1</td>\n",
       "      <td>0</td>\n",
       "    </tr>\n",
       "    <tr>\n",
       "      <th>16</th>\n",
       "      <td>838</td>\n",
       "      <td>0</td>\n",
       "      <td>0.5</td>\n",
       "      <td>0</td>\n",
       "      <td>1</td>\n",
       "      <td>1</td>\n",
       "      <td>13</td>\n",
       "      <td>0.1</td>\n",
       "      <td>196</td>\n",
       "      <td>8</td>\n",
       "      <td>...</td>\n",
       "      <td>984</td>\n",
       "      <td>1850</td>\n",
       "      <td>3554</td>\n",
       "      <td>10</td>\n",
       "      <td>9</td>\n",
       "      <td>19</td>\n",
       "      <td>1</td>\n",
       "      <td>0</td>\n",
       "      <td>1</td>\n",
       "      <td>3</td>\n",
       "    </tr>\n",
       "    <tr>\n",
       "      <th>17</th>\n",
       "      <td>595</td>\n",
       "      <td>0</td>\n",
       "      <td>0.9</td>\n",
       "      <td>1</td>\n",
       "      <td>7</td>\n",
       "      <td>1</td>\n",
       "      <td>23</td>\n",
       "      <td>0.1</td>\n",
       "      <td>121</td>\n",
       "      <td>3</td>\n",
       "      <td>...</td>\n",
       "      <td>441</td>\n",
       "      <td>810</td>\n",
       "      <td>3752</td>\n",
       "      <td>10</td>\n",
       "      <td>2</td>\n",
       "      <td>18</td>\n",
       "      <td>1</td>\n",
       "      <td>1</td>\n",
       "      <td>0</td>\n",
       "      <td>3</td>\n",
       "    </tr>\n",
       "    <tr>\n",
       "      <th>18</th>\n",
       "      <td>1131</td>\n",
       "      <td>1</td>\n",
       "      <td>0.5</td>\n",
       "      <td>1</td>\n",
       "      <td>11</td>\n",
       "      <td>0</td>\n",
       "      <td>49</td>\n",
       "      <td>0.6</td>\n",
       "      <td>101</td>\n",
       "      <td>5</td>\n",
       "      <td>...</td>\n",
       "      <td>658</td>\n",
       "      <td>878</td>\n",
       "      <td>1835</td>\n",
       "      <td>19</td>\n",
       "      <td>13</td>\n",
       "      <td>16</td>\n",
       "      <td>1</td>\n",
       "      <td>1</td>\n",
       "      <td>0</td>\n",
       "      <td>1</td>\n",
       "    </tr>\n",
       "    <tr>\n",
       "      <th>19</th>\n",
       "      <td>682</td>\n",
       "      <td>1</td>\n",
       "      <td>0.5</td>\n",
       "      <td>0</td>\n",
       "      <td>4</td>\n",
       "      <td>0</td>\n",
       "      <td>19</td>\n",
       "      <td>1.0</td>\n",
       "      <td>121</td>\n",
       "      <td>4</td>\n",
       "      <td>...</td>\n",
       "      <td>902</td>\n",
       "      <td>1064</td>\n",
       "      <td>2337</td>\n",
       "      <td>11</td>\n",
       "      <td>1</td>\n",
       "      <td>18</td>\n",
       "      <td>0</td>\n",
       "      <td>1</td>\n",
       "      <td>1</td>\n",
       "      <td>1</td>\n",
       "    </tr>\n",
       "  </tbody>\n",
       "</table>\n",
       "<p>20 rows × 21 columns</p>\n",
       "</div>"
      ],
      "text/plain": [
       "    battery_power  blue  clock_speed  dual_sim  fc  four_g  int_memory  m_dep  \\\n",
       "0             842     0          2.2         0   1       0           7    0.6   \n",
       "1            1021     1          0.5         1   0       1          53    0.7   \n",
       "2             563     1          0.5         1   2       1          41    0.9   \n",
       "3             615     1          2.5         0   0       0          10    0.8   \n",
       "4            1821     1          1.2         0  13       1          44    0.6   \n",
       "5            1859     0          0.5         1   3       0          22    0.7   \n",
       "6            1821     0          1.7         0   4       1          10    0.8   \n",
       "7            1954     0          0.5         1   0       0          24    0.8   \n",
       "8            1445     1          0.5         0   0       0          53    0.7   \n",
       "9             509     1          0.6         1   2       1           9    0.1   \n",
       "10            769     1          2.9         1   0       0           9    0.1   \n",
       "11           1520     1          2.2         0   5       1          33    0.5   \n",
       "12           1815     0          2.8         0   2       0          33    0.6   \n",
       "13            803     1          2.1         0   7       0          17    1.0   \n",
       "14           1866     0          0.5         0  13       1          52    0.7   \n",
       "15            775     0          1.0         0   3       0          46    0.7   \n",
       "16            838     0          0.5         0   1       1          13    0.1   \n",
       "17            595     0          0.9         1   7       1          23    0.1   \n",
       "18           1131     1          0.5         1  11       0          49    0.6   \n",
       "19            682     1          0.5         0   4       0          19    1.0   \n",
       "\n",
       "    mobile_wt  n_cores     ...       px_height  px_width   ram  sc_h  sc_w  \\\n",
       "0         188        2     ...              20       756  2549     9     7   \n",
       "1         136        3     ...             905      1988  2631    17     3   \n",
       "2         145        5     ...            1263      1716  2603    11     2   \n",
       "3         131        6     ...            1216      1786  2769    16     8   \n",
       "4         141        2     ...            1208      1212  1411     8     2   \n",
       "5         164        1     ...            1004      1654  1067    17     1   \n",
       "6         139        8     ...             381      1018  3220    13     8   \n",
       "7         187        4     ...             512      1149   700    16     3   \n",
       "8         174        7     ...             386       836  1099    17     1   \n",
       "9          93        5     ...            1137      1224   513    19    10   \n",
       "10        182        5     ...             248       874  3946     5     2   \n",
       "11        177        8     ...             151      1005  3826    14     9   \n",
       "12        159        4     ...             607       748  1482    18     0   \n",
       "13        198        4     ...             344      1440  2680     7     1   \n",
       "14        185        1     ...             356       563   373    14     9   \n",
       "15        159        2     ...             862      1864   568    17    15   \n",
       "16        196        8     ...             984      1850  3554    10     9   \n",
       "17        121        3     ...             441       810  3752    10     2   \n",
       "18        101        5     ...             658       878  1835    19    13   \n",
       "19        121        4     ...             902      1064  2337    11     1   \n",
       "\n",
       "    talk_time  three_g  touch_screen  wifi  price_range  \n",
       "0          19        0             0     1            1  \n",
       "1           7        1             1     0            2  \n",
       "2           9        1             1     0            2  \n",
       "3          11        1             0     0            2  \n",
       "4          15        1             1     0            1  \n",
       "5          10        1             0     0            1  \n",
       "6          18        1             0     1            3  \n",
       "7           5        1             1     1            0  \n",
       "8          20        1             0     0            0  \n",
       "9          12        1             0     0            0  \n",
       "10          7        0             0     0            3  \n",
       "11         13        1             1     1            3  \n",
       "12          2        1             0     0            1  \n",
       "13          4        1             0     1            2  \n",
       "14          3        1             0     1            0  \n",
       "15         11        1             1     1            0  \n",
       "16         19        1             0     1            3  \n",
       "17         18        1             1     0            3  \n",
       "18         16        1             1     0            1  \n",
       "19         18        0             1     1            1  \n",
       "\n",
       "[20 rows x 21 columns]"
      ]
     },
     "execution_count": 2,
     "metadata": {},
     "output_type": "execute_result"
    }
   ],
   "source": [
    "train_data= pd.read_csv('train_mobilePrice.csv', encoding= 'ISO-8859-1')\n",
    "train_data.head(20)"
   ]
  },
  {
   "cell_type": "code",
   "execution_count": 3,
   "metadata": {},
   "outputs": [
    {
     "data": {
      "text/plain": [
       "(2000, 21)"
      ]
     },
     "execution_count": 3,
     "metadata": {},
     "output_type": "execute_result"
    }
   ],
   "source": [
    "train_data.shape"
   ]
  },
  {
   "cell_type": "code",
   "execution_count": 4,
   "metadata": {},
   "outputs": [
    {
     "data": {
      "text/plain": [
       "battery_power    0\n",
       "blue             0\n",
       "clock_speed      0\n",
       "dual_sim         0\n",
       "fc               0\n",
       "four_g           0\n",
       "int_memory       0\n",
       "m_dep            0\n",
       "mobile_wt        0\n",
       "n_cores          0\n",
       "pc               0\n",
       "px_height        0\n",
       "px_width         0\n",
       "ram              0\n",
       "sc_h             0\n",
       "sc_w             0\n",
       "talk_time        0\n",
       "three_g          0\n",
       "touch_screen     0\n",
       "wifi             0\n",
       "price_range      0\n",
       "dtype: int64"
      ]
     },
     "execution_count": 4,
     "metadata": {},
     "output_type": "execute_result"
    }
   ],
   "source": [
    "train_data.isnull().sum()"
   ]
  },
  {
   "cell_type": "code",
   "execution_count": 5,
   "metadata": {},
   "outputs": [
    {
     "data": {
      "text/html": [
       "<div>\n",
       "<style scoped>\n",
       "    .dataframe tbody tr th:only-of-type {\n",
       "        vertical-align: middle;\n",
       "    }\n",
       "\n",
       "    .dataframe tbody tr th {\n",
       "        vertical-align: top;\n",
       "    }\n",
       "\n",
       "    .dataframe thead th {\n",
       "        text-align: right;\n",
       "    }\n",
       "</style>\n",
       "<table border=\"1\" class=\"dataframe\">\n",
       "  <thead>\n",
       "    <tr style=\"text-align: right;\">\n",
       "      <th></th>\n",
       "      <th>battery_power</th>\n",
       "      <th>blue</th>\n",
       "      <th>clock_speed</th>\n",
       "      <th>dual_sim</th>\n",
       "      <th>fc</th>\n",
       "      <th>four_g</th>\n",
       "      <th>int_memory</th>\n",
       "      <th>m_dep</th>\n",
       "      <th>mobile_wt</th>\n",
       "      <th>n_cores</th>\n",
       "      <th>...</th>\n",
       "      <th>px_height</th>\n",
       "      <th>px_width</th>\n",
       "      <th>ram</th>\n",
       "      <th>sc_h</th>\n",
       "      <th>sc_w</th>\n",
       "      <th>talk_time</th>\n",
       "      <th>three_g</th>\n",
       "      <th>touch_screen</th>\n",
       "      <th>wifi</th>\n",
       "      <th>price_range</th>\n",
       "    </tr>\n",
       "  </thead>\n",
       "  <tbody>\n",
       "    <tr>\n",
       "      <th>count</th>\n",
       "      <td>2000.000000</td>\n",
       "      <td>2000.0000</td>\n",
       "      <td>2000.000000</td>\n",
       "      <td>2000.000000</td>\n",
       "      <td>2000.000000</td>\n",
       "      <td>2000.000000</td>\n",
       "      <td>2000.000000</td>\n",
       "      <td>2000.000000</td>\n",
       "      <td>2000.000000</td>\n",
       "      <td>2000.000000</td>\n",
       "      <td>...</td>\n",
       "      <td>2000.000000</td>\n",
       "      <td>2000.000000</td>\n",
       "      <td>2000.000000</td>\n",
       "      <td>2000.000000</td>\n",
       "      <td>2000.000000</td>\n",
       "      <td>2000.000000</td>\n",
       "      <td>2000.000000</td>\n",
       "      <td>2000.000000</td>\n",
       "      <td>2000.000000</td>\n",
       "      <td>2000.000000</td>\n",
       "    </tr>\n",
       "    <tr>\n",
       "      <th>mean</th>\n",
       "      <td>1238.518500</td>\n",
       "      <td>0.4950</td>\n",
       "      <td>1.522250</td>\n",
       "      <td>0.509500</td>\n",
       "      <td>4.309500</td>\n",
       "      <td>0.521500</td>\n",
       "      <td>32.046500</td>\n",
       "      <td>0.501750</td>\n",
       "      <td>140.249000</td>\n",
       "      <td>4.520500</td>\n",
       "      <td>...</td>\n",
       "      <td>645.108000</td>\n",
       "      <td>1251.515500</td>\n",
       "      <td>2124.213000</td>\n",
       "      <td>12.306500</td>\n",
       "      <td>5.767000</td>\n",
       "      <td>11.011000</td>\n",
       "      <td>0.761500</td>\n",
       "      <td>0.503000</td>\n",
       "      <td>0.507000</td>\n",
       "      <td>1.500000</td>\n",
       "    </tr>\n",
       "    <tr>\n",
       "      <th>std</th>\n",
       "      <td>439.418206</td>\n",
       "      <td>0.5001</td>\n",
       "      <td>0.816004</td>\n",
       "      <td>0.500035</td>\n",
       "      <td>4.341444</td>\n",
       "      <td>0.499662</td>\n",
       "      <td>18.145715</td>\n",
       "      <td>0.288416</td>\n",
       "      <td>35.399655</td>\n",
       "      <td>2.287837</td>\n",
       "      <td>...</td>\n",
       "      <td>443.780811</td>\n",
       "      <td>432.199447</td>\n",
       "      <td>1084.732044</td>\n",
       "      <td>4.213245</td>\n",
       "      <td>4.356398</td>\n",
       "      <td>5.463955</td>\n",
       "      <td>0.426273</td>\n",
       "      <td>0.500116</td>\n",
       "      <td>0.500076</td>\n",
       "      <td>1.118314</td>\n",
       "    </tr>\n",
       "    <tr>\n",
       "      <th>min</th>\n",
       "      <td>501.000000</td>\n",
       "      <td>0.0000</td>\n",
       "      <td>0.500000</td>\n",
       "      <td>0.000000</td>\n",
       "      <td>0.000000</td>\n",
       "      <td>0.000000</td>\n",
       "      <td>2.000000</td>\n",
       "      <td>0.100000</td>\n",
       "      <td>80.000000</td>\n",
       "      <td>1.000000</td>\n",
       "      <td>...</td>\n",
       "      <td>0.000000</td>\n",
       "      <td>500.000000</td>\n",
       "      <td>256.000000</td>\n",
       "      <td>5.000000</td>\n",
       "      <td>0.000000</td>\n",
       "      <td>2.000000</td>\n",
       "      <td>0.000000</td>\n",
       "      <td>0.000000</td>\n",
       "      <td>0.000000</td>\n",
       "      <td>0.000000</td>\n",
       "    </tr>\n",
       "    <tr>\n",
       "      <th>25%</th>\n",
       "      <td>851.750000</td>\n",
       "      <td>0.0000</td>\n",
       "      <td>0.700000</td>\n",
       "      <td>0.000000</td>\n",
       "      <td>1.000000</td>\n",
       "      <td>0.000000</td>\n",
       "      <td>16.000000</td>\n",
       "      <td>0.200000</td>\n",
       "      <td>109.000000</td>\n",
       "      <td>3.000000</td>\n",
       "      <td>...</td>\n",
       "      <td>282.750000</td>\n",
       "      <td>874.750000</td>\n",
       "      <td>1207.500000</td>\n",
       "      <td>9.000000</td>\n",
       "      <td>2.000000</td>\n",
       "      <td>6.000000</td>\n",
       "      <td>1.000000</td>\n",
       "      <td>0.000000</td>\n",
       "      <td>0.000000</td>\n",
       "      <td>0.750000</td>\n",
       "    </tr>\n",
       "    <tr>\n",
       "      <th>50%</th>\n",
       "      <td>1226.000000</td>\n",
       "      <td>0.0000</td>\n",
       "      <td>1.500000</td>\n",
       "      <td>1.000000</td>\n",
       "      <td>3.000000</td>\n",
       "      <td>1.000000</td>\n",
       "      <td>32.000000</td>\n",
       "      <td>0.500000</td>\n",
       "      <td>141.000000</td>\n",
       "      <td>4.000000</td>\n",
       "      <td>...</td>\n",
       "      <td>564.000000</td>\n",
       "      <td>1247.000000</td>\n",
       "      <td>2146.500000</td>\n",
       "      <td>12.000000</td>\n",
       "      <td>5.000000</td>\n",
       "      <td>11.000000</td>\n",
       "      <td>1.000000</td>\n",
       "      <td>1.000000</td>\n",
       "      <td>1.000000</td>\n",
       "      <td>1.500000</td>\n",
       "    </tr>\n",
       "    <tr>\n",
       "      <th>75%</th>\n",
       "      <td>1615.250000</td>\n",
       "      <td>1.0000</td>\n",
       "      <td>2.200000</td>\n",
       "      <td>1.000000</td>\n",
       "      <td>7.000000</td>\n",
       "      <td>1.000000</td>\n",
       "      <td>48.000000</td>\n",
       "      <td>0.800000</td>\n",
       "      <td>170.000000</td>\n",
       "      <td>7.000000</td>\n",
       "      <td>...</td>\n",
       "      <td>947.250000</td>\n",
       "      <td>1633.000000</td>\n",
       "      <td>3064.500000</td>\n",
       "      <td>16.000000</td>\n",
       "      <td>9.000000</td>\n",
       "      <td>16.000000</td>\n",
       "      <td>1.000000</td>\n",
       "      <td>1.000000</td>\n",
       "      <td>1.000000</td>\n",
       "      <td>2.250000</td>\n",
       "    </tr>\n",
       "    <tr>\n",
       "      <th>max</th>\n",
       "      <td>1998.000000</td>\n",
       "      <td>1.0000</td>\n",
       "      <td>3.000000</td>\n",
       "      <td>1.000000</td>\n",
       "      <td>19.000000</td>\n",
       "      <td>1.000000</td>\n",
       "      <td>64.000000</td>\n",
       "      <td>1.000000</td>\n",
       "      <td>200.000000</td>\n",
       "      <td>8.000000</td>\n",
       "      <td>...</td>\n",
       "      <td>1960.000000</td>\n",
       "      <td>1998.000000</td>\n",
       "      <td>3998.000000</td>\n",
       "      <td>19.000000</td>\n",
       "      <td>18.000000</td>\n",
       "      <td>20.000000</td>\n",
       "      <td>1.000000</td>\n",
       "      <td>1.000000</td>\n",
       "      <td>1.000000</td>\n",
       "      <td>3.000000</td>\n",
       "    </tr>\n",
       "  </tbody>\n",
       "</table>\n",
       "<p>8 rows × 21 columns</p>\n",
       "</div>"
      ],
      "text/plain": [
       "       battery_power       blue  clock_speed     dual_sim           fc  \\\n",
       "count    2000.000000  2000.0000  2000.000000  2000.000000  2000.000000   \n",
       "mean     1238.518500     0.4950     1.522250     0.509500     4.309500   \n",
       "std       439.418206     0.5001     0.816004     0.500035     4.341444   \n",
       "min       501.000000     0.0000     0.500000     0.000000     0.000000   \n",
       "25%       851.750000     0.0000     0.700000     0.000000     1.000000   \n",
       "50%      1226.000000     0.0000     1.500000     1.000000     3.000000   \n",
       "75%      1615.250000     1.0000     2.200000     1.000000     7.000000   \n",
       "max      1998.000000     1.0000     3.000000     1.000000    19.000000   \n",
       "\n",
       "            four_g   int_memory        m_dep    mobile_wt      n_cores  \\\n",
       "count  2000.000000  2000.000000  2000.000000  2000.000000  2000.000000   \n",
       "mean      0.521500    32.046500     0.501750   140.249000     4.520500   \n",
       "std       0.499662    18.145715     0.288416    35.399655     2.287837   \n",
       "min       0.000000     2.000000     0.100000    80.000000     1.000000   \n",
       "25%       0.000000    16.000000     0.200000   109.000000     3.000000   \n",
       "50%       1.000000    32.000000     0.500000   141.000000     4.000000   \n",
       "75%       1.000000    48.000000     0.800000   170.000000     7.000000   \n",
       "max       1.000000    64.000000     1.000000   200.000000     8.000000   \n",
       "\n",
       "          ...         px_height     px_width          ram         sc_h  \\\n",
       "count     ...       2000.000000  2000.000000  2000.000000  2000.000000   \n",
       "mean      ...        645.108000  1251.515500  2124.213000    12.306500   \n",
       "std       ...        443.780811   432.199447  1084.732044     4.213245   \n",
       "min       ...          0.000000   500.000000   256.000000     5.000000   \n",
       "25%       ...        282.750000   874.750000  1207.500000     9.000000   \n",
       "50%       ...        564.000000  1247.000000  2146.500000    12.000000   \n",
       "75%       ...        947.250000  1633.000000  3064.500000    16.000000   \n",
       "max       ...       1960.000000  1998.000000  3998.000000    19.000000   \n",
       "\n",
       "              sc_w    talk_time      three_g  touch_screen         wifi  \\\n",
       "count  2000.000000  2000.000000  2000.000000   2000.000000  2000.000000   \n",
       "mean      5.767000    11.011000     0.761500      0.503000     0.507000   \n",
       "std       4.356398     5.463955     0.426273      0.500116     0.500076   \n",
       "min       0.000000     2.000000     0.000000      0.000000     0.000000   \n",
       "25%       2.000000     6.000000     1.000000      0.000000     0.000000   \n",
       "50%       5.000000    11.000000     1.000000      1.000000     1.000000   \n",
       "75%       9.000000    16.000000     1.000000      1.000000     1.000000   \n",
       "max      18.000000    20.000000     1.000000      1.000000     1.000000   \n",
       "\n",
       "       price_range  \n",
       "count  2000.000000  \n",
       "mean      1.500000  \n",
       "std       1.118314  \n",
       "min       0.000000  \n",
       "25%       0.750000  \n",
       "50%       1.500000  \n",
       "75%       2.250000  \n",
       "max       3.000000  \n",
       "\n",
       "[8 rows x 21 columns]"
      ]
     },
     "execution_count": 5,
     "metadata": {},
     "output_type": "execute_result"
    }
   ],
   "source": [
    "train_data.describe()\n",
    "# Basic learning on my dataset"
   ]
  },
  {
   "cell_type": "code",
   "execution_count": 6,
   "metadata": {},
   "outputs": [
    {
     "data": {
      "text/plain": [
       "<matplotlib.axes._subplots.AxesSubplot at 0x1336fa64710>"
      ]
     },
     "execution_count": 6,
     "metadata": {},
     "output_type": "execute_result"
    },
    {
     "data": {
      "image/png": "[encoded data removed]",
      "text/plain": [
       "<Figure size 432x288 with 1 Axes>"
      ]
     },
     "metadata": {
      "needs_background": "light"
     },
     "output_type": "display_data"
    }
   ],
   "source": [
    "sns.countplot(x = \"price_range\", data = train_data)"
   ]
  },
  {
   "cell_type": "code",
   "execution_count": 7,
   "metadata": {},
   "outputs": [
    {
     "data": {
      "text/html": [
       "<div>\n",
       "<style scoped>\n",
       "    .dataframe tbody tr th:only-of-type {\n",
       "        vertical-align: middle;\n",
       "    }\n",
       "\n",
       "    .dataframe tbody tr th {\n",
       "        vertical-align: top;\n",
       "    }\n",
       "\n",
       "    .dataframe thead th {\n",
       "        text-align: right;\n",
       "    }\n",
       "</style>\n",
       "<table border=\"1\" class=\"dataframe\">\n",
       "  <thead>\n",
       "    <tr style=\"text-align: right;\">\n",
       "      <th></th>\n",
       "      <th>battery_power</th>\n",
       "      <th>blue</th>\n",
       "      <th>clock_speed</th>\n",
       "      <th>dual_sim</th>\n",
       "      <th>fc</th>\n",
       "      <th>four_g</th>\n",
       "      <th>int_memory</th>\n",
       "      <th>m_dep</th>\n",
       "      <th>mobile_wt</th>\n",
       "      <th>n_cores</th>\n",
       "      <th>pc</th>\n",
       "      <th>px_height</th>\n",
       "      <th>px_width</th>\n",
       "      <th>ram</th>\n",
       "      <th>sc_h</th>\n",
       "      <th>sc_w</th>\n",
       "      <th>talk_time</th>\n",
       "      <th>three_g</th>\n",
       "      <th>touch_screen</th>\n",
       "      <th>wifi</th>\n",
       "    </tr>\n",
       "    <tr>\n",
       "      <th>price_range</th>\n",
       "      <th></th>\n",
       "      <th></th>\n",
       "      <th></th>\n",
       "      <th></th>\n",
       "      <th></th>\n",
       "      <th></th>\n",
       "      <th></th>\n",
       "      <th></th>\n",
       "      <th></th>\n",
       "      <th></th>\n",
       "      <th></th>\n",
       "      <th></th>\n",
       "      <th></th>\n",
       "      <th></th>\n",
       "      <th></th>\n",
       "      <th></th>\n",
       "      <th></th>\n",
       "      <th></th>\n",
       "      <th></th>\n",
       "      <th></th>\n",
       "    </tr>\n",
       "  </thead>\n",
       "  <tbody>\n",
       "    <tr>\n",
       "      <th>0</th>\n",
       "      <td>1116.902</td>\n",
       "      <td>0.486</td>\n",
       "      <td>1.5502</td>\n",
       "      <td>0.500</td>\n",
       "      <td>4.084</td>\n",
       "      <td>0.518</td>\n",
       "      <td>31.174</td>\n",
       "      <td>0.4902</td>\n",
       "      <td>140.552</td>\n",
       "      <td>4.600</td>\n",
       "      <td>9.574</td>\n",
       "      <td>536.408</td>\n",
       "      <td>1150.270</td>\n",
       "      <td>785.314</td>\n",
       "      <td>12.324</td>\n",
       "      <td>5.682</td>\n",
       "      <td>10.612</td>\n",
       "      <td>0.746</td>\n",
       "      <td>0.524</td>\n",
       "      <td>0.496</td>\n",
       "    </tr>\n",
       "    <tr>\n",
       "      <th>1</th>\n",
       "      <td>1228.868</td>\n",
       "      <td>0.490</td>\n",
       "      <td>1.4886</td>\n",
       "      <td>0.510</td>\n",
       "      <td>4.340</td>\n",
       "      <td>0.524</td>\n",
       "      <td>32.116</td>\n",
       "      <td>0.5240</td>\n",
       "      <td>140.510</td>\n",
       "      <td>4.298</td>\n",
       "      <td>9.924</td>\n",
       "      <td>666.892</td>\n",
       "      <td>1251.908</td>\n",
       "      <td>1679.490</td>\n",
       "      <td>12.212</td>\n",
       "      <td>5.544</td>\n",
       "      <td>11.362</td>\n",
       "      <td>0.756</td>\n",
       "      <td>0.522</td>\n",
       "      <td>0.504</td>\n",
       "    </tr>\n",
       "    <tr>\n",
       "      <th>2</th>\n",
       "      <td>1228.320</td>\n",
       "      <td>0.486</td>\n",
       "      <td>1.5298</td>\n",
       "      <td>0.498</td>\n",
       "      <td>4.498</td>\n",
       "      <td>0.494</td>\n",
       "      <td>30.920</td>\n",
       "      <td>0.4908</td>\n",
       "      <td>143.614</td>\n",
       "      <td>4.682</td>\n",
       "      <td>10.018</td>\n",
       "      <td>632.284</td>\n",
       "      <td>1234.046</td>\n",
       "      <td>2582.816</td>\n",
       "      <td>12.010</td>\n",
       "      <td>5.714</td>\n",
       "      <td>10.972</td>\n",
       "      <td>0.774</td>\n",
       "      <td>0.470</td>\n",
       "      <td>0.504</td>\n",
       "    </tr>\n",
       "    <tr>\n",
       "      <th>3</th>\n",
       "      <td>1379.984</td>\n",
       "      <td>0.518</td>\n",
       "      <td>1.5204</td>\n",
       "      <td>0.530</td>\n",
       "      <td>4.316</td>\n",
       "      <td>0.550</td>\n",
       "      <td>33.976</td>\n",
       "      <td>0.5020</td>\n",
       "      <td>136.320</td>\n",
       "      <td>4.502</td>\n",
       "      <td>10.150</td>\n",
       "      <td>744.848</td>\n",
       "      <td>1369.838</td>\n",
       "      <td>3449.232</td>\n",
       "      <td>12.680</td>\n",
       "      <td>6.128</td>\n",
       "      <td>11.098</td>\n",
       "      <td>0.770</td>\n",
       "      <td>0.496</td>\n",
       "      <td>0.524</td>\n",
       "    </tr>\n",
       "  </tbody>\n",
       "</table>\n",
       "</div>"
      ],
      "text/plain": [
       "             battery_power   blue  clock_speed  dual_sim     fc  four_g  \\\n",
       "price_range                                                               \n",
       "0                 1116.902  0.486       1.5502     0.500  4.084   0.518   \n",
       "1                 1228.868  0.490       1.4886     0.510  4.340   0.524   \n",
       "2                 1228.320  0.486       1.5298     0.498  4.498   0.494   \n",
       "3                 1379.984  0.518       1.5204     0.530  4.316   0.550   \n",
       "\n",
       "             int_memory   m_dep  mobile_wt  n_cores      pc  px_height  \\\n",
       "price_range                                                              \n",
       "0                31.174  0.4902    140.552    4.600   9.574    536.408   \n",
       "1                32.116  0.5240    140.510    4.298   9.924    666.892   \n",
       "2                30.920  0.4908    143.614    4.682  10.018    632.284   \n",
       "3                33.976  0.5020    136.320    4.502  10.150    744.848   \n",
       "\n",
       "             px_width       ram    sc_h   sc_w  talk_time  three_g  \\\n",
       "price_range                                                          \n",
       "0            1150.270   785.314  12.324  5.682     10.612    0.746   \n",
       "1            1251.908  1679.490  12.212  5.544     11.362    0.756   \n",
       "2            1234.046  2582.816  12.010  5.714     10.972    0.774   \n",
       "3            1369.838  3449.232  12.680  6.128     11.098    0.770   \n",
       "\n",
       "             touch_screen   wifi  \n",
       "price_range                       \n",
       "0                   0.524  0.496  \n",
       "1                   0.522  0.504  \n",
       "2                   0.470  0.504  \n",
       "3                   0.496  0.524  "
      ]
     },
     "execution_count": 7,
     "metadata": {},
     "output_type": "execute_result"
    }
   ],
   "source": [
    "train_data.groupby(['price_range']).mean()"
   ]
  },
  {
   "cell_type": "code",
   "execution_count": 8,
   "metadata": {},
   "outputs": [],
   "source": [
    "# It seems that the features: pc, battery power, ram and wifi effect the most (more or less rising). "
   ]
  },
  {
   "cell_type": "code",
   "execution_count": 9,
   "metadata": {},
   "outputs": [],
   "source": [
    "# We can also see that between low price (0) and high price (3) there is the most significiant difference, while 1 and 2 are quite similar. "
   ]
  },
  {
   "cell_type": "code",
   "execution_count": 10,
   "metadata": {},
   "outputs": [
    {
     "data": {
      "text/plain": [
       "<seaborn.axisgrid.FacetGrid at 0x1336fa182b0>"
      ]
     },
     "execution_count": 10,
     "metadata": {},
     "output_type": "execute_result"
    },
    {
     "data": {
      "image/png": "[encoded data removed]",
      "text/plain": [
       "<Figure size 360x360 with 1 Axes>"
      ]
     },
     "metadata": {
      "needs_background": "light"
     },
     "output_type": "display_data"
    }
   ],
   "source": [
    "sns.lmplot(\"pc\",\"price_range\",train_data)"
   ]
  },
  {
   "cell_type": "code",
   "execution_count": 11,
   "metadata": {},
   "outputs": [
    {
     "data": {
      "text/plain": [
       "<seaborn.axisgrid.FacetGrid at 0x1336fa18668>"
      ]
     },
     "execution_count": 11,
     "metadata": {},
     "output_type": "execute_result"
    },
    {
     "data": {
      "image/png": "[encoded data removed]",
      "text/plain": [
       "<Figure size 360x360 with 1 Axes>"
      ]
     },
     "metadata": {
      "needs_background": "light"
     },
     "output_type": "display_data"
    }
   ],
   "source": [
    "sns.lmplot(\"battery_power\",\"price_range\",train_data)"
   ]
  },
  {
   "cell_type": "code",
   "execution_count": 12,
   "metadata": {},
   "outputs": [
    {
     "data": {
      "text/plain": [
       "<matplotlib.axes._subplots.AxesSubplot at 0x1336feac400>"
      ]
     },
     "execution_count": 12,
     "metadata": {},
     "output_type": "execute_result"
    },
    {
     "data": {
      "image/png": "[encoded data removed]",
      "text/plain": [
       "<Figure size 432x288 with 1 Axes>"
      ]
     },
     "metadata": {
      "needs_background": "light"
     },
     "output_type": "display_data"
    }
   ],
   "source": [
    "sns.boxplot(x=\"price_range\", y=\"battery_power\", data=train_data)"
   ]
  },
  {
   "cell_type": "code",
   "execution_count": 13,
   "metadata": {},
   "outputs": [
    {
     "data": {
      "image/png": "[encoded data removed]",
      "text/plain": [
       "<Figure size 576x576 with 1 Axes>"
      ]
     },
     "metadata": {
      "needs_background": "light"
     },
     "output_type": "display_data"
    }
   ],
   "source": [
    "low_cost = train_data[train_data[\"price_range\"] == 0] \n",
    "medium_cost = train_data[train_data[\"price_range\"] == 1]\n",
    "high_cost = train_data[train_data[\"price_range\"] == 2]\n",
    "very_high_cost = train_data[train_data[\"price_range\"] == 3]\n",
    "\n",
    "low_cost.ram.plot(kind = 'hist',bins = 50,figsize = (8,8), color = \"green\", label = \"low cost\")\n",
    "medium_cost.ram.plot(kind = 'hist',bins = 50,figsize = (8,8), color = \"red\", label = \"medium cost\")\n",
    "high_cost.ram.plot(kind = 'hist',bins = 50,figsize = (8,8), color = \"blue\", label = \"high cost\")\n",
    "very_high_cost.ram.plot(kind = 'hist',bins = 50,figsize = (8,8), color = \"yellow\", label = \"very high cost\")\n",
    "\n",
    "plt.xlabel('RAM')             \n",
    "plt.legend()\n",
    "plt.show()"
   ]
  },
  {
   "cell_type": "code",
   "execution_count": 14,
   "metadata": {},
   "outputs": [
    {
     "data": {
      "text/plain": [
       "<seaborn.axisgrid.JointGrid at 0x1336ffc8eb8>"
      ]
     },
     "execution_count": 14,
     "metadata": {},
     "output_type": "execute_result"
    },
    {
     "data": {
      "image/png": "[encoded data removed]",
      "text/plain": [
       "<Figure size 432x432 with 3 Axes>"
      ]
     },
     "metadata": {
      "needs_background": "light"
     },
     "output_type": "display_data"
    }
   ],
   "source": [
    "sns.jointplot(x='ram',y='price_range',data=train_data,color='red',kind='kde')"
   ]
  },
  {
   "cell_type": "code",
   "execution_count": 15,
   "metadata": {},
   "outputs": [
    {
     "data": {
      "image/png": "[encoded data removed]",
      "text/plain": [
       "<Figure size 576x504 with 1 Axes>"
      ]
     },
     "metadata": {
      "needs_background": "light"
     },
     "output_type": "display_data"
    }
   ],
   "source": [
    "plt.figure(figsize= (8,7))\n",
    "sns.barplot(x= train_data['price_range'], y= train_data['wifi'])\n",
    "plt.xlabel('Price Range')\n",
    "plt.ylabel('Wifi')\n",
    "plt.title('Price Range vs Wifi')\n",
    "plt.show()"
   ]
  },
  {
   "cell_type": "code",
   "execution_count": 16,
   "metadata": {},
   "outputs": [
    {
     "data": {
      "text/plain": [
       "<matplotlib.axes._subplots.AxesSubplot at 0x1337152cb38>"
      ]
     },
     "execution_count": 16,
     "metadata": {},
     "output_type": "execute_result"
    },
    {
     "data": {
      "image/png": "[encoded data removed]",
      "text/plain": [
       "<Figure size 432x288 with 1 Axes>"
      ]
     },
     "metadata": {
      "needs_background": "light"
     },
     "output_type": "display_data"
    }
   ],
   "source": [
    "sns.pointplot(y=\"int_memory\", x=\"price_range\", data=train_data)"
   ]
  },
  {
   "cell_type": "code",
   "execution_count": 17,
   "metadata": {},
   "outputs": [
    {
     "data": {
      "text/plain": [
       "Text(0.5,0,'MegaPixels')"
      ]
     },
     "execution_count": 17,
     "metadata": {},
     "output_type": "execute_result"
    },
    {
     "data": {
      "image/png": "[encoded data removed]",
      "text/plain": [
       "<Figure size 720x432 with 1 Axes>"
      ]
     },
     "metadata": {
      "needs_background": "light"
     },
     "output_type": "display_data"
    }
   ],
   "source": [
    "plt.figure(figsize=(10,6))\n",
    "train_data['fc'].hist(alpha=0.5,color='blue',label='Front camera')\n",
    "train_data['pc'].hist(alpha=0.5,color='red',label='Primary camera')\n",
    "plt.legend()\n",
    "plt.xlabel('MegaPixels')"
   ]
  },
  {
   "cell_type": "code",
   "execution_count": 18,
   "metadata": {},
   "outputs": [
    {
     "data": {
      "text/plain": [
       "0    1010\n",
       "1     990\n",
       "Name: blue, dtype: int64"
      ]
     },
     "execution_count": 18,
     "metadata": {},
     "output_type": "execute_result"
    }
   ],
   "source": [
    "train_data.blue.value_counts()"
   ]
  },
  {
   "cell_type": "code",
   "execution_count": 19,
   "metadata": {},
   "outputs": [
    {
     "data": {
      "image/png": "[encoded data removed]",
      "text/plain": [
       "<Figure size 432x288 with 1 Axes>"
      ]
     },
     "metadata": {
      "needs_background": "light"
     },
     "output_type": "display_data"
    },
    {
     "data": {
      "image/png": "[encoded data removed]",
      "text/plain": [
       "<Figure size 432x288 with 1 Axes>"
      ]
     },
     "metadata": {},
     "output_type": "display_data"
    }
   ],
   "source": [
    "plt.title('Has bluetooth?')\n",
    "labels = 'Yes', 'No'\n",
    "sizes=train_data['blue'].value_counts().values\n",
    "#sizes = [990, 1010]\n",
    "fig1, ax1 = plt.subplots()\n",
    "ax1.pie(sizes, labels=labels, autopct='%1.1f%%', startangle=90)\n",
    "ax1.axis('equal') \n",
    "\n",
    "plt.show()"
   ]
  },
  {
   "cell_type": "code",
   "execution_count": 20,
   "metadata": {},
   "outputs": [
    {
     "data": {
      "text/plain": [
       "Text(0.5,1,'Price Range/ Bluetooth')"
      ]
     },
     "execution_count": 20,
     "metadata": {},
     "output_type": "execute_result"
    },
    {
     "data": {
      "image/png": "[encoded data removed]",
      "text/plain": [
       "<Figure size 432x288 with 1 Axes>"
      ]
     },
     "metadata": {
      "needs_background": "light"
     },
     "output_type": "display_data"
    }
   ],
   "source": [
    "sns.countplot(x='blue', data=train_data, hue='price_range')\n",
    "plt.title('Price Range/ Bluetooth')\n",
    "#ax.set(ylim=(0,350))"
   ]
  },
  {
   "cell_type": "markdown",
   "metadata": {},
   "source": [
    "Train/ Test Split"
   ]
  },
  {
   "cell_type": "code",
   "execution_count": 21,
   "metadata": {},
   "outputs": [
    {
     "data": {
      "text/html": [
       "<div>\n",
       "<style scoped>\n",
       "    .dataframe tbody tr th:only-of-type {\n",
       "        vertical-align: middle;\n",
       "    }\n",
       "\n",
       "    .dataframe tbody tr th {\n",
       "        vertical-align: top;\n",
       "    }\n",
       "\n",
       "    .dataframe thead th {\n",
       "        text-align: right;\n",
       "    }\n",
       "</style>\n",
       "<table border=\"1\" class=\"dataframe\">\n",
       "  <thead>\n",
       "    <tr style=\"text-align: right;\">\n",
       "      <th></th>\n",
       "      <th>battery_power</th>\n",
       "      <th>blue</th>\n",
       "      <th>clock_speed</th>\n",
       "      <th>dual_sim</th>\n",
       "      <th>fc</th>\n",
       "      <th>four_g</th>\n",
       "      <th>int_memory</th>\n",
       "      <th>m_dep</th>\n",
       "      <th>mobile_wt</th>\n",
       "      <th>n_cores</th>\n",
       "      <th>pc</th>\n",
       "      <th>px_height</th>\n",
       "      <th>px_width</th>\n",
       "      <th>ram</th>\n",
       "      <th>sc_h</th>\n",
       "      <th>sc_w</th>\n",
       "      <th>talk_time</th>\n",
       "      <th>three_g</th>\n",
       "      <th>touch_screen</th>\n",
       "      <th>wifi</th>\n",
       "    </tr>\n",
       "  </thead>\n",
       "  <tbody>\n",
       "    <tr>\n",
       "      <th>0</th>\n",
       "      <td>842</td>\n",
       "      <td>0</td>\n",
       "      <td>2.2</td>\n",
       "      <td>0</td>\n",
       "      <td>1</td>\n",
       "      <td>0</td>\n",
       "      <td>7</td>\n",
       "      <td>0.6</td>\n",
       "      <td>188</td>\n",
       "      <td>2</td>\n",
       "      <td>2</td>\n",
       "      <td>20</td>\n",
       "      <td>756</td>\n",
       "      <td>2549</td>\n",
       "      <td>9</td>\n",
       "      <td>7</td>\n",
       "      <td>19</td>\n",
       "      <td>0</td>\n",
       "      <td>0</td>\n",
       "      <td>1</td>\n",
       "    </tr>\n",
       "    <tr>\n",
       "      <th>1</th>\n",
       "      <td>1021</td>\n",
       "      <td>1</td>\n",
       "      <td>0.5</td>\n",
       "      <td>1</td>\n",
       "      <td>0</td>\n",
       "      <td>1</td>\n",
       "      <td>53</td>\n",
       "      <td>0.7</td>\n",
       "      <td>136</td>\n",
       "      <td>3</td>\n",
       "      <td>6</td>\n",
       "      <td>905</td>\n",
       "      <td>1988</td>\n",
       "      <td>2631</td>\n",
       "      <td>17</td>\n",
       "      <td>3</td>\n",
       "      <td>7</td>\n",
       "      <td>1</td>\n",
       "      <td>1</td>\n",
       "      <td>0</td>\n",
       "    </tr>\n",
       "    <tr>\n",
       "      <th>2</th>\n",
       "      <td>563</td>\n",
       "      <td>1</td>\n",
       "      <td>0.5</td>\n",
       "      <td>1</td>\n",
       "      <td>2</td>\n",
       "      <td>1</td>\n",
       "      <td>41</td>\n",
       "      <td>0.9</td>\n",
       "      <td>145</td>\n",
       "      <td>5</td>\n",
       "      <td>6</td>\n",
       "      <td>1263</td>\n",
       "      <td>1716</td>\n",
       "      <td>2603</td>\n",
       "      <td>11</td>\n",
       "      <td>2</td>\n",
       "      <td>9</td>\n",
       "      <td>1</td>\n",
       "      <td>1</td>\n",
       "      <td>0</td>\n",
       "    </tr>\n",
       "    <tr>\n",
       "      <th>3</th>\n",
       "      <td>615</td>\n",
       "      <td>1</td>\n",
       "      <td>2.5</td>\n",
       "      <td>0</td>\n",
       "      <td>0</td>\n",
       "      <td>0</td>\n",
       "      <td>10</td>\n",
       "      <td>0.8</td>\n",
       "      <td>131</td>\n",
       "      <td>6</td>\n",
       "      <td>9</td>\n",
       "      <td>1216</td>\n",
       "      <td>1786</td>\n",
       "      <td>2769</td>\n",
       "      <td>16</td>\n",
       "      <td>8</td>\n",
       "      <td>11</td>\n",
       "      <td>1</td>\n",
       "      <td>0</td>\n",
       "      <td>0</td>\n",
       "    </tr>\n",
       "    <tr>\n",
       "      <th>4</th>\n",
       "      <td>1821</td>\n",
       "      <td>1</td>\n",
       "      <td>1.2</td>\n",
       "      <td>0</td>\n",
       "      <td>13</td>\n",
       "      <td>1</td>\n",
       "      <td>44</td>\n",
       "      <td>0.6</td>\n",
       "      <td>141</td>\n",
       "      <td>2</td>\n",
       "      <td>14</td>\n",
       "      <td>1208</td>\n",
       "      <td>1212</td>\n",
       "      <td>1411</td>\n",
       "      <td>8</td>\n",
       "      <td>2</td>\n",
       "      <td>15</td>\n",
       "      <td>1</td>\n",
       "      <td>1</td>\n",
       "      <td>0</td>\n",
       "    </tr>\n",
       "  </tbody>\n",
       "</table>\n",
       "</div>"
      ],
      "text/plain": [
       "   battery_power  blue  clock_speed  dual_sim  fc  four_g  int_memory  m_dep  \\\n",
       "0            842     0          2.2         0   1       0           7    0.6   \n",
       "1           1021     1          0.5         1   0       1          53    0.7   \n",
       "2            563     1          0.5         1   2       1          41    0.9   \n",
       "3            615     1          2.5         0   0       0          10    0.8   \n",
       "4           1821     1          1.2         0  13       1          44    0.6   \n",
       "\n",
       "   mobile_wt  n_cores  pc  px_height  px_width   ram  sc_h  sc_w  talk_time  \\\n",
       "0        188        2   2         20       756  2549     9     7         19   \n",
       "1        136        3   6        905      1988  2631    17     3          7   \n",
       "2        145        5   6       1263      1716  2603    11     2          9   \n",
       "3        131        6   9       1216      1786  2769    16     8         11   \n",
       "4        141        2  14       1208      1212  1411     8     2         15   \n",
       "\n",
       "   three_g  touch_screen  wifi  \n",
       "0        0             0     1  \n",
       "1        1             1     0  \n",
       "2        1             1     0  \n",
       "3        1             0     0  \n",
       "4        1             1     0  "
      ]
     },
     "execution_count": 21,
     "metadata": {},
     "output_type": "execute_result"
    }
   ],
   "source": [
    "X = train_data.drop('price_range',axis=1)\n",
    "X.head()"
   ]
  },
  {
   "cell_type": "code",
   "execution_count": 22,
   "metadata": {},
   "outputs": [
    {
     "data": {
      "text/plain": [
       "0    1\n",
       "1    2\n",
       "2    2\n",
       "3    2\n",
       "4    1\n",
       "Name: price_range, dtype: int64"
      ]
     },
     "execution_count": 22,
     "metadata": {},
     "output_type": "execute_result"
    }
   ],
   "source": [
    "y = train_data['price_range']\n",
    "y.head()"
   ]
  },
  {
   "cell_type": "code",
   "execution_count": 23,
   "metadata": {},
   "outputs": [],
   "source": [
    "from sklearn.model_selection import train_test_split\n",
    "\n",
    "X_train, X_test, y_train, y_test = train_test_split(X, y, test_size=0.33, random_state=101)"
   ]
  },
  {
   "cell_type": "code",
   "execution_count": 24,
   "metadata": {},
   "outputs": [
    {
     "name": "stdout",
     "output_type": "stream",
     "text": [
      "(2000, 20)\n",
      "(2000,)\n",
      "61      0\n",
      "853     0\n",
      "680     3\n",
      "455     2\n",
      "130     3\n",
      "850     3\n",
      "413     2\n",
      "1413    2\n",
      "375     2\n",
      "835     3\n",
      "1213    1\n",
      "1159    0\n",
      "25      2\n",
      "792     2\n",
      "1510    1\n",
      "536     0\n",
      "1462    3\n",
      "583     0\n",
      "54      2\n",
      "691     0\n",
      "33      3\n",
      "1281    3\n",
      "1320    1\n",
      "548     2\n",
      "1381    3\n",
      "769     1\n",
      "1016    0\n",
      "1736    1\n",
      "1253    0\n",
      "1811    1\n",
      "       ..\n",
      "883     1\n",
      "1949    2\n",
      "371     1\n",
      "136     1\n",
      "1530    0\n",
      "623     2\n",
      "1875    0\n",
      "49      3\n",
      "40      2\n",
      "477     0\n",
      "908     1\n",
      "1029    2\n",
      "1134    0\n",
      "1728    1\n",
      "732     0\n",
      "316     1\n",
      "1781    3\n",
      "936     3\n",
      "575     2\n",
      "1668    1\n",
      "1576    0\n",
      "973     2\n",
      "1417    1\n",
      "75      1\n",
      "599     0\n",
      "1599    3\n",
      "1862    0\n",
      "1361    0\n",
      "1547    2\n",
      "863     0\n",
      "Name: price_range, Length: 1340, dtype: int64\n"
     ]
    }
   ],
   "source": [
    "print(X.shape)\n",
    "print(y.shape)\n",
    "print(y_train)"
   ]
  },
  {
   "cell_type": "code",
   "execution_count": 25,
   "metadata": {},
   "outputs": [],
   "source": [
    "from sklearn.model_selection import cross_val_score"
   ]
  },
  {
   "cell_type": "markdown",
   "metadata": {},
   "source": [
    "KNN Model"
   ]
  },
  {
   "cell_type": "code",
   "execution_count": 26,
   "metadata": {},
   "outputs": [
    {
     "data": {
      "text/plain": [
       "KNeighborsClassifier(algorithm='auto', leaf_size=30, metric='minkowski',\n",
       "           metric_params=None, n_jobs=1, n_neighbors=30, p=2,\n",
       "           weights='uniform')"
      ]
     },
     "execution_count": 26,
     "metadata": {},
     "output_type": "execute_result"
    }
   ],
   "source": [
    "from sklearn.neighbors import KNeighborsClassifier\n",
    "knn = KNeighborsClassifier(n_neighbors=30) \n",
    "\n",
    "knn.fit(X_train, y_train)"
   ]
  },
  {
   "cell_type": "code",
   "execution_count": 27,
   "metadata": {},
   "outputs": [
    {
     "name": "stdout",
     "output_type": "stream",
     "text": [
      "[1 1 2 1 0 1 2 1 1 1 0 1 1 1 1 0 0 2 0 1 3 1 2 3 2 2 2 1 0 0 2 3 0 0 3 0 0\n",
      " 0 1 1 1 2 3 2 3 0 1 3 3 1 0 0 2 3 3 2 0 3 2 3 2 2 3 1 3 1 0 0 0 2 1 2 3 2\n",
      " 1 3 3 2 0 2 0 0 2 1 2 2 2 1 0 0 3 2 0 2 0 3 2 0 2 3 0 1 3 3 0 2 0 0 2 0 1\n",
      " 0 3 2 2 1 1 3 1 0 3 3 2 3 1 2 3 2 1 1 1 0 0 1 0 2 3 0 2 2 1 3 0 0 0 1 1 2\n",
      " 2 0 3 1 3 2 3 2 2 0 3 1 2 2 2 2 1 2 1 1 3 3 1 2 0 3 1 3 2 2 3 1 2 1 0 1 2\n",
      " 2 1 2 0 3 1 0 2 3 0 2 0 0 3 0 0 1 3 2 1 3 0 2 2 2 1 2 1 3 0 3 0 0 3 1 1 2\n",
      " 3 0 2 3 3 0 3 1 1 1 0 2 1 2 1 2 2 0 1 2 1 2 0 3 3 2 3 3 1 3 1 1 3 1 0 2 0\n",
      " 1 1 3 3 0 1 0 1 1 0 2 3 1 3 1 1 2 2 2 0 3 1 3 1 2 3 2 2 1 2 3 2 3 0 1 1 0\n",
      " 2 1 0 1 3 3 1 2 3 3 1 1 1 1 2 0 0 0 1 1 3 1 2 2 1 3 1 3 0 1 2 0 0 2 2 2 2\n",
      " 1 0 0 2 2 1 1 2 1 2 0 0 1 0 2 3 3 2 2 2 1 0 3 2 0 0 2 0 3 3 1 0 1 0 2 0 0\n",
      " 1 0 0 2 1 2 1 3 2 2 2 1 3 0 0 0 0 0 1 0 3 1 3 1 1 1 3 2 0 3 3 2 0 3 2 2 1\n",
      " 3 1 2 1 2 1 2 2 0 2 0 0 3 1 1 2 1 1 1 3 0 3 1 3 2 3 2 3 2 3 1 1 3 0 0 2 2\n",
      " 0 0 1 2 0 3 0 3 0 2 0 0 2 2 2 1 0 1 2 2 0 3 2 3 2 3 0 3 2 3 1 2 3 3 2 3 1\n",
      " 2 0 2 2 1 3 2 1 1 3 3 0 3 0 0 2 2 3 0 2 1 3 1 3 0 3 0 0 3 0 0 3 1 2 0 3 2\n",
      " 0 2 2 1 2 1 3 0 0 1 1 0 1 2 0 2 0 0 0 2 3 3 1 2 1 0 1 0 3 3 1 2 2 3 0 0 1\n",
      " 0 1 2 2 0 1 2 2 2 3 2 1 2 3 0 2 2 0 0 3 2 3 3 2 1 3 0 3 1 2 1 3 1 1 0 3 0\n",
      " 0 2 0 0 1 3 2 0 2 3 2 3 3 0 0 3 2 2 1 3 0 0 0 3 3 0 2 0 0 3 1 3 1 2 3 1 3\n",
      " 2 3 2 3 2 0 3 2 1 3 1 1 2 0 2 0 1 2 1 1 1 0 3 0 0 2 0 2 2 2 3]\n",
      "1458    1\n",
      "198     1\n",
      "1276    2\n",
      "1243    1\n",
      "1267    1\n",
      "201     1\n",
      "903     2\n",
      "295     1\n",
      "1333    1\n",
      "236     1\n",
      "1842    0\n",
      "1356    1\n",
      "218     1\n",
      "1406    1\n",
      "1391    1\n",
      "1412    0\n",
      "1307    0\n",
      "1499    2\n",
      "423     0\n",
      "1435    1\n",
      "1957    3\n",
      "412     1\n",
      "1648    2\n",
      "1188    3\n",
      "1084    2\n",
      "1939    2\n",
      "228     2\n",
      "1284    2\n",
      "974     0\n",
      "352     0\n",
      "       ..\n",
      "114     3\n",
      "1296    2\n",
      "822     3\n",
      "744     2\n",
      "1263    0\n",
      "1053    3\n",
      "1201    2\n",
      "915     1\n",
      "844     3\n",
      "1744    1\n",
      "1916    1\n",
      "877     3\n",
      "361     0\n",
      "1918    2\n",
      "306     1\n",
      "369     1\n",
      "843     2\n",
      "175     2\n",
      "1471    1\n",
      "1051    1\n",
      "72      0\n",
      "1171    3\n",
      "1270    0\n",
      "141     0\n",
      "421     2\n",
      "849     0\n",
      "1335    2\n",
      "1737    2\n",
      "1535    2\n",
      "749     3\n",
      "Name: price_range, Length: 660, dtype: int64\n",
      "test:\n",
      "0.9287878787878788\n",
      "train:\n",
      "0.9261194029850747\n"
     ]
    }
   ],
   "source": [
    "print(knn.predict(X_test))\n",
    "print(y_test)\n",
    "print(\"test:\")\n",
    "print(knn.score(X_test,y_test))\n",
    "print(\"train:\")\n",
    "print(knn.score(X_train, y_train))"
   ]
  },
  {
   "cell_type": "code",
   "execution_count": 28,
   "metadata": {},
   "outputs": [],
   "source": [
    "# I want to find the ideal k, which will bring me the highest accuracy (in \"test\")\n",
    "\n",
    "from sklearn import metrics\n",
    "\n",
    "y_pred= knn.predict(X_test)\n",
    "\n",
    "k_range = list(range(1, 56))\n",
    "scores = []\n",
    "for k in k_range:\n",
    "    knn = KNeighborsClassifier(n_neighbors=k)\n",
    "    knn.fit(X_train, y_train)\n",
    "    y_pred = knn.predict(X_test)\n",
    "    scores.append(metrics.accuracy_score(y_test, y_pred))"
   ]
  },
  {
   "cell_type": "code",
   "execution_count": 29,
   "metadata": {},
   "outputs": [
    {
     "data": {
      "text/plain": [
       "Text(0,0.5,'Testing Accuracy')"
      ]
     },
     "execution_count": 29,
     "metadata": {},
     "output_type": "execute_result"
    },
    {
     "data": {
      "image/png": "[encoded data removed]",
      "text/plain": [
       "<Figure size 432x288 with 1 Axes>"
      ]
     },
     "metadata": {
      "needs_background": "light"
     },
     "output_type": "display_data"
    }
   ],
   "source": [
    "# the connection between K and testing accuracy\n",
    "plt.plot(k_range, scores)\n",
    "plt.xlabel('Value of K for KNN')\n",
    "plt.ylabel('Testing Accuracy')"
   ]
  },
  {
   "cell_type": "code",
   "execution_count": 30,
   "metadata": {},
   "outputs": [],
   "source": [
    "# From the above graph it can be concluded that the ideal k in that case is k=30."
   ]
  },
  {
   "cell_type": "code",
   "execution_count": 31,
   "metadata": {},
   "outputs": [
    {
     "name": "stdout",
     "output_type": "stream",
     "text": [
      "[0.935 0.93  0.92  0.945 0.925 0.935 0.925 0.92  0.895 0.9  ]\n"
     ]
    }
   ],
   "source": [
    "score = cross_val_score(knn, X, y, cv=10, scoring='accuracy')\n",
    "print(score)"
   ]
  },
  {
   "cell_type": "code",
   "execution_count": 32,
   "metadata": {},
   "outputs": [
    {
     "name": "stdout",
     "output_type": "stream",
     "text": [
      "0.923\n"
     ]
    }
   ],
   "source": [
    "print(score.mean())"
   ]
  },
  {
   "cell_type": "markdown",
   "metadata": {},
   "source": [
    "Logostic Regresion Model"
   ]
  },
  {
   "cell_type": "code",
   "execution_count": 33,
   "metadata": {},
   "outputs": [
    {
     "data": {
      "text/plain": [
       "LogisticRegression(C=1.0, class_weight=None, dual=False, fit_intercept=True,\n",
       "          intercept_scaling=1, max_iter=100, multi_class='ovr', n_jobs=1,\n",
       "          penalty='l2', random_state=None, solver='liblinear', tol=0.0001,\n",
       "          verbose=0, warm_start=False)"
      ]
     },
     "execution_count": 33,
     "metadata": {},
     "output_type": "execute_result"
    }
   ],
   "source": [
    "from sklearn.linear_model import LogisticRegression\n",
    "logreg = LogisticRegression()\n",
    "\n",
    "logreg.fit(X_train, y_train)"
   ]
  },
  {
   "cell_type": "code",
   "execution_count": 34,
   "metadata": {},
   "outputs": [
    {
     "data": {
      "text/plain": [
       "array([1, 1, 2, 1, 1, 1, 2, 1, 0, 0, 0, 1, 1, 0, 1, 0, 0, 1, 0, 0, 3, 1,\n",
       "       2, 3, 3, 2, 2, 2, 0, 0, 2, 3, 0, 0, 3, 0, 0, 0, 1, 1, 1, 3, 3, 3,\n",
       "       3, 0, 2, 3, 3, 1, 0, 1, 3, 3, 3, 3, 1, 3, 2, 3, 2, 3, 3, 1, 3, 1,\n",
       "       0, 0, 0, 2, 1, 2, 3, 2, 2, 3, 3, 2, 0, 2, 0, 0, 3, 1, 2, 3, 1, 1,\n",
       "       0, 0, 3, 3, 0, 1, 0, 3, 2, 0, 1, 3, 0, 2, 3, 3, 0, 3, 0, 0, 3, 0,\n",
       "       1, 0, 3, 2, 1, 1, 2, 3, 1, 0, 3, 3, 2, 3, 1, 3, 3, 2, 0, 1, 0, 0,\n",
       "       0, 1, 0, 2, 3, 0, 1, 3, 3, 3, 0, 0, 0, 1, 1, 3, 3, 0, 2, 1, 2, 2,\n",
       "       3, 2, 2, 0, 3, 2, 2, 1, 2, 2, 0, 2, 1, 0, 3, 3, 1, 3, 0, 3, 1, 3,\n",
       "       2, 3, 3, 2, 1, 1, 1, 0, 3, 3, 1, 3, 0, 2, 0, 0, 3, 2, 0, 1, 0, 0,\n",
       "       3, 0, 0, 2, 3, 2, 1, 3, 0, 3, 1, 3, 2, 1, 1, 3, 0, 3, 0, 0, 3, 1,\n",
       "       1, 2, 3, 0, 1, 3, 3, 0, 3, 1, 1, 2, 0, 2, 1, 3, 1, 3, 1, 0, 1, 2,\n",
       "       2, 3, 0, 3, 3, 2, 3, 3, 1, 3, 1, 2, 3, 1, 0, 2, 0, 0, 1, 3, 3, 0,\n",
       "       1, 0, 1, 2, 0, 3, 3, 1, 3, 1, 1, 2, 1, 2, 0, 3, 1, 3, 1, 2, 3, 2,\n",
       "       3, 2, 2, 3, 2, 3, 0, 2, 2, 0, 3, 1, 0, 1, 3, 3, 1, 1, 3, 2, 1, 2,\n",
       "       0, 1, 2, 1, 0, 0, 1, 1, 3, 1, 3, 2, 1, 3, 2, 3, 1, 2, 3, 0, 1, 2,\n",
       "       2, 3, 2, 1, 0, 0, 2, 3, 0, 1, 1, 1, 3, 0, 0, 1, 0, 2, 3, 3, 1, 1,\n",
       "       2, 2, 0, 3, 1, 0, 0, 3, 0, 3, 3, 1, 0, 1, 0, 2, 0, 0, 0, 0, 0, 1,\n",
       "       1, 2, 1, 3, 1, 2, 2, 1, 3, 0, 0, 0, 0, 0, 1, 0, 3, 1, 2, 1, 1, 1,\n",
       "       3, 2, 0, 3, 3, 1, 0, 3, 2, 2, 1, 3, 0, 1, 2, 2, 1, 3, 1, 0, 3, 0,\n",
       "       0, 3, 0, 1, 2, 1, 1, 1, 3, 0, 3, 0, 3, 3, 3, 3, 3, 3, 3, 1, 1, 3,\n",
       "       0, 0, 3, 3, 0, 0, 1, 1, 1, 3, 0, 3, 0, 2, 0, 0, 2, 2, 3, 2, 0, 1,\n",
       "       3, 3, 0, 3, 2, 3, 3, 3, 0, 3, 2, 3, 1, 2, 3, 3, 2, 3, 1, 2, 0, 3,\n",
       "       2, 2, 3, 2, 1, 1, 3, 3, 0, 3, 0, 0, 3, 1, 3, 0, 3, 1, 3, 1, 3, 0,\n",
       "       3, 0, 0, 3, 0, 0, 3, 1, 3, 0, 3, 1, 0, 2, 3, 1, 1, 1, 3, 0, 0, 2,\n",
       "       1, 0, 1, 3, 0, 2, 0, 0, 0, 1, 3, 3, 2, 3, 1, 0, 1, 0, 3, 3, 1, 1,\n",
       "       3, 3, 0, 0, 1, 0, 1, 3, 1, 0, 2, 2, 3, 3, 3, 3, 2, 3, 3, 0, 2, 3,\n",
       "       0, 0, 3, 2, 3, 3, 3, 2, 3, 0, 3, 1, 2, 1, 3, 0, 1, 0, 3, 0, 0, 3,\n",
       "       0, 0, 1, 3, 1, 0, 2, 3, 1, 3, 2, 1, 0, 3, 1, 2, 2, 2, 0, 0, 0, 2,\n",
       "       3, 0, 3, 0, 0, 3, 1, 3, 1, 2, 3, 1, 3, 2, 3, 2, 3, 1, 0, 3, 3, 1,\n",
       "       3, 1, 1, 3, 0, 3, 1, 1, 2, 1, 0, 1, 0, 3, 0, 0, 1, 0, 2, 3, 2, 3],\n",
       "      dtype=int64)"
      ]
     },
     "execution_count": 34,
     "metadata": {},
     "output_type": "execute_result"
    }
   ],
   "source": [
    "y_pred_logreg = logreg.predict(X_test)\n",
    "y_pred_logreg"
   ]
  },
  {
   "cell_type": "code",
   "execution_count": 35,
   "metadata": {},
   "outputs": [
    {
     "data": {
      "text/plain": [
       "660"
      ]
     },
     "execution_count": 35,
     "metadata": {},
     "output_type": "execute_result"
    }
   ],
   "source": [
    "len(y_pred_logreg)"
   ]
  },
  {
   "cell_type": "code",
   "execution_count": 36,
   "metadata": {},
   "outputs": [
    {
     "data": {
      "text/plain": [
       "0.7515151515151515"
      ]
     },
     "execution_count": 36,
     "metadata": {},
     "output_type": "execute_result"
    }
   ],
   "source": [
    "logreg.score(X_test, y_test)"
   ]
  },
  {
   "cell_type": "code",
   "execution_count": 37,
   "metadata": {},
   "outputs": [
    {
     "name": "stdout",
     "output_type": "stream",
     "text": [
      "[0.79  0.8   0.77  0.76  0.83  0.745 0.775 0.775 0.785 0.74 ]\n",
      "0.777\n"
     ]
    }
   ],
   "source": [
    "score = cross_val_score(logreg, X, y, cv=10, scoring='accuracy')\n",
    "print(score)\n",
    "print(score.mean())"
   ]
  },
  {
   "cell_type": "markdown",
   "metadata": {},
   "source": [
    "Gaussian Naive Bayes"
   ]
  },
  {
   "cell_type": "code",
   "execution_count": 38,
   "metadata": {},
   "outputs": [
    {
     "data": {
      "text/plain": [
       "GaussianNB(priors=None)"
      ]
     },
     "execution_count": 38,
     "metadata": {},
     "output_type": "execute_result"
    }
   ],
   "source": [
    "from sklearn.naive_bayes import GaussianNB\n",
    "GNB= GaussianNB()\n",
    "\n",
    "GNB.fit(X_train, y_train)"
   ]
  },
  {
   "cell_type": "code",
   "execution_count": 39,
   "metadata": {},
   "outputs": [
    {
     "data": {
      "text/plain": [
       "array([1, 1, 2, 1, 1, 1, 2, 1, 1, 1, 0, 1, 1, 1, 2, 0, 1, 1, 0, 1, 3, 1,\n",
       "       3, 3, 2, 2, 2, 1, 0, 0, 2, 3, 0, 0, 3, 0, 0, 0, 1, 1, 1, 3, 3, 3,\n",
       "       3, 1, 2, 3, 3, 1, 0, 1, 2, 2, 3, 2, 1, 3, 3, 3, 2, 2, 3, 1, 3, 1,\n",
       "       0, 1, 0, 2, 1, 1, 3, 2, 2, 3, 3, 2, 0, 2, 0, 0, 2, 1, 2, 3, 1, 2,\n",
       "       0, 0, 3, 3, 0, 2, 0, 3, 2, 0, 1, 3, 0, 2, 3, 3, 0, 2, 0, 0, 2, 0,\n",
       "       1, 0, 3, 2, 2, 1, 2, 3, 1, 0, 3, 3, 2, 3, 1, 2, 3, 2, 1, 1, 0, 0,\n",
       "       0, 1, 0, 2, 3, 0, 2, 2, 1, 3, 0, 1, 0, 1, 0, 3, 2, 0, 3, 1, 2, 2,\n",
       "       3, 2, 2, 0, 3, 1, 2, 2, 2, 2, 1, 2, 1, 1, 2, 3, 1, 2, 0, 3, 2, 3,\n",
       "       2, 1, 3, 2, 1, 1, 0, 0, 3, 2, 1, 2, 1, 2, 1, 0, 2, 3, 0, 2, 0, 0,\n",
       "       3, 0, 1, 2, 3, 2, 1, 3, 0, 3, 2, 2, 2, 1, 1, 3, 0, 3, 0, 0, 3, 1,\n",
       "       1, 2, 3, 0, 1, 3, 3, 1, 3, 1, 1, 2, 1, 2, 1, 3, 1, 2, 2, 0, 1, 2,\n",
       "       2, 3, 0, 3, 3, 2, 3, 3, 1, 2, 1, 2, 3, 2, 0, 2, 0, 1, 1, 3, 3, 0,\n",
       "       1, 0, 1, 1, 0, 2, 3, 0, 3, 1, 1, 2, 1, 2, 1, 2, 1, 3, 0, 2, 2, 3,\n",
       "       3, 2, 3, 3, 2, 3, 0, 2, 2, 0, 2, 1, 0, 1, 3, 3, 2, 2, 3, 2, 1, 1,\n",
       "       1, 1, 2, 1, 0, 0, 1, 1, 3, 1, 2, 2, 1, 3, 2, 3, 0, 2, 2, 0, 0, 2,\n",
       "       2, 2, 2, 1, 0, 0, 2, 2, 1, 1, 2, 2, 2, 0, 0, 2, 0, 2, 2, 3, 2, 2,\n",
       "       2, 1, 0, 3, 1, 0, 0, 2, 1, 3, 3, 1, 0, 1, 0, 2, 0, 0, 1, 0, 1, 1,\n",
       "       1, 2, 1, 3, 2, 2, 2, 1, 3, 0, 0, 0, 0, 0, 1, 0, 3, 1, 3, 1, 1, 1,\n",
       "       3, 2, 0, 3, 3, 2, 0, 3, 2, 2, 1, 3, 0, 2, 1, 2, 1, 2, 2, 0, 2, 0,\n",
       "       0, 3, 1, 0, 2, 1, 1, 1, 3, 0, 3, 1, 3, 2, 3, 2, 3, 2, 3, 1, 1, 3,\n",
       "       0, 0, 3, 2, 1, 0, 1, 2, 1, 3, 0, 3, 0, 2, 0, 0, 2, 2, 2, 1, 0, 1,\n",
       "       2, 2, 0, 3, 2, 3, 2, 3, 0, 3, 2, 2, 1, 1, 3, 3, 2, 3, 1, 2, 0, 2,\n",
       "       2, 1, 3, 2, 1, 1, 3, 3, 0, 3, 0, 0, 3, 2, 3, 0, 2, 1, 3, 1, 3, 0,\n",
       "       2, 0, 0, 3, 1, 0, 3, 1, 2, 0, 3, 3, 0, 2, 2, 1, 2, 1, 3, 0, 0, 1,\n",
       "       1, 0, 1, 2, 1, 2, 0, 1, 0, 2, 3, 3, 2, 2, 2, 1, 1, 0, 3, 3, 1, 1,\n",
       "       2, 3, 0, 0, 1, 0, 2, 2, 1, 0, 2, 1, 2, 3, 3, 3, 2, 2, 2, 0, 2, 3,\n",
       "       0, 0, 3, 2, 3, 3, 3, 1, 3, 0, 3, 1, 2, 0, 3, 0, 0, 0, 3, 0, 0, 2,\n",
       "       0, 0, 1, 3, 2, 0, 2, 2, 2, 3, 3, 0, 0, 3, 1, 2, 1, 3, 0, 0, 0, 3,\n",
       "       3, 0, 2, 0, 0, 3, 1, 3, 0, 2, 3, 1, 3, 2, 3, 2, 3, 2, 0, 3, 2, 1,\n",
       "       3, 1, 1, 2, 0, 2, 0, 1, 2, 1, 1, 1, 0, 3, 0, 0, 2, 0, 3, 2, 3, 3],\n",
       "      dtype=int64)"
      ]
     },
     "execution_count": 39,
     "metadata": {},
     "output_type": "execute_result"
    }
   ],
   "source": [
    "y_pred_GNB = GNB.predict(X_test)\n",
    "y_pred_GNB"
   ]
  },
  {
   "cell_type": "code",
   "execution_count": 40,
   "metadata": {},
   "outputs": [
    {
     "data": {
      "text/plain": [
       "0.8090909090909091"
      ]
     },
     "execution_count": 40,
     "metadata": {},
     "output_type": "execute_result"
    }
   ],
   "source": [
    "GNB.score(X_test, y_test)"
   ]
  },
  {
   "cell_type": "code",
   "execution_count": 41,
   "metadata": {},
   "outputs": [
    {
     "data": {
      "text/plain": [
       "0.812"
      ]
     },
     "execution_count": 41,
     "metadata": {},
     "output_type": "execute_result"
    }
   ],
   "source": [
    "cross_val_score(GNB, X, y, cv=10, scoring='accuracy').mean()"
   ]
  },
  {
   "cell_type": "code",
   "execution_count": 42,
   "metadata": {},
   "outputs": [
    {
     "data": {
      "text/plain": [
       "array([0.805, 0.81 , 0.83 , 0.82 , 0.825, 0.835, 0.795, 0.815, 0.795,\n",
       "       0.79 ])"
      ]
     },
     "execution_count": 42,
     "metadata": {},
     "output_type": "execute_result"
    }
   ],
   "source": [
    "cross_val_score(GNB, X, y, cv=10, scoring='accuracy')"
   ]
  },
  {
   "cell_type": "markdown",
   "metadata": {},
   "source": [
    "ADABOOST Classifier"
   ]
  },
  {
   "cell_type": "code",
   "execution_count": 43,
   "metadata": {},
   "outputs": [
    {
     "name": "stderr",
     "output_type": "stream",
     "text": [
      "C:\\ProgramData\\Anaconda3\\lib\\site-packages\\sklearn\\ensemble\\weight_boosting.py:29: DeprecationWarning: numpy.core.umath_tests is an internal NumPy module and should not be imported. It will be removed in a future NumPy release.\n",
      "  from numpy.core.umath_tests import inner1d\n"
     ]
    }
   ],
   "source": [
    "from sklearn.ensemble import AdaBoostClassifier\n",
    "abc = AdaBoostClassifier(n_estimators=50, learning_rate=1)\n",
    "\n",
    "model = abc.fit(X_train, y_train)\n",
    "y_pred_abc = model.predict(X_test)"
   ]
  },
  {
   "cell_type": "code",
   "execution_count": 44,
   "metadata": {},
   "outputs": [
    {
     "data": {
      "text/plain": [
       "0.7893939393939394"
      ]
     },
     "execution_count": 44,
     "metadata": {},
     "output_type": "execute_result"
    }
   ],
   "source": [
    "metrics.accuracy_score(y_test, y_pred_abc)"
   ]
  },
  {
   "cell_type": "code",
   "execution_count": 45,
   "metadata": {},
   "outputs": [
    {
     "data": {
      "text/plain": [
       "0.7893939393939394"
      ]
     },
     "execution_count": 45,
     "metadata": {},
     "output_type": "execute_result"
    }
   ],
   "source": [
    "abc.score(X_test, y_test)"
   ]
  },
  {
   "cell_type": "markdown",
   "metadata": {},
   "source": [
    "Random Forest Classifier"
   ]
  },
  {
   "cell_type": "code",
   "execution_count": 49,
   "metadata": {},
   "outputs": [],
   "source": [
    "from sklearn.ensemble import RandomForestClassifier"
   ]
  },
  {
   "cell_type": "code",
   "execution_count": 52,
   "metadata": {},
   "outputs": [],
   "source": [
    "n_scores = []\n",
    "for n in list(range(1,250)):\n",
    "    rfc = RandomForestClassifier(n_estimators=n)\n",
    "    rfc.fit(X_train, y_train)\n",
    "    n_scores.append(rfc.score(X_test,y_test))"
   ]
  },
  {
   "cell_type": "code",
   "execution_count": 53,
   "metadata": {},
   "outputs": [
    {
     "data": {
      "image/png": "[encoded data removed]",
      "text/plain": [
       "<Figure size 432x288 with 1 Axes>"
      ]
     },
     "metadata": {
      "needs_background": "light"
     },
     "output_type": "display_data"
    }
   ],
   "source": [
    "plt.plot(list(range(1,250)), n_scores)\n",
    "plt.xlabel('n_estimators value')\n",
    "plt.ylabel('SCORE')\n",
    "plt.show()"
   ]
  },
  {
   "cell_type": "code",
   "execution_count": 69,
   "metadata": {},
   "outputs": [
    {
     "data": {
      "image/png": "[encoded data removed]",
      "text/plain": [
       "<Figure size 432x288 with 1 Axes>"
      ]
     },
     "metadata": {
      "needs_background": "light"
     },
     "output_type": "display_data"
    }
   ],
   "source": [
    "n_scores = []\n",
    "for n in list(range(50,200)):\n",
    "    rfc = RandomForestClassifier(n_estimators=n)\n",
    "    rfc.fit(X_train, y_train)\n",
    "    n_scores.append(rfc.score(X_test,y_test))\n",
    "    \n",
    "plt.plot(list(range(50,200)), n_scores)\n",
    "plt.xlabel('n_estimators value')\n",
    "plt.ylabel('SCORE')\n",
    "plt.show()"
   ]
  },
  {
   "cell_type": "code",
   "execution_count": 73,
   "metadata": {},
   "outputs": [],
   "source": [
    "# based on the chart above, i'll choose n value ; n_esimantors = 119\n",
    "\n",
    "rfc = RandomForestClassifier(n_estimators=119)"
   ]
  },
  {
   "cell_type": "code",
   "execution_count": 74,
   "metadata": {},
   "outputs": [
    {
     "data": {
      "text/plain": [
       "RandomForestClassifier(bootstrap=True, class_weight=None, criterion='gini',\n",
       "            max_depth=None, max_features='auto', max_leaf_nodes=None,\n",
       "            min_impurity_decrease=0.0, min_impurity_split=None,\n",
       "            min_samples_leaf=1, min_samples_split=2,\n",
       "            min_weight_fraction_leaf=0.0, n_estimators=119, n_jobs=1,\n",
       "            oob_score=False, random_state=None, verbose=0,\n",
       "            warm_start=False)"
      ]
     },
     "execution_count": 74,
     "metadata": {},
     "output_type": "execute_result"
    }
   ],
   "source": [
    "rfc.fit(X_train, y_train)"
   ]
  },
  {
   "cell_type": "code",
   "execution_count": 75,
   "metadata": {},
   "outputs": [
    {
     "data": {
      "text/plain": [
       "0.8651515151515151"
      ]
     },
     "execution_count": 75,
     "metadata": {},
     "output_type": "execute_result"
    }
   ],
   "source": [
    "rfc.score(X_test,y_test)"
   ]
  },
  {
   "cell_type": "code",
   "execution_count": 76,
   "metadata": {},
   "outputs": [
    {
     "name": "stdout",
     "output_type": "stream",
     "text": [
      "[0.885 0.875 0.905 0.845 0.88  0.91  0.87  0.87  0.855 0.87 ]\n",
      "0.8764999999999998\n"
     ]
    }
   ],
   "source": [
    "score = cross_val_score(rfc, X, y, cv=10, scoring='accuracy')\n",
    "print(score)\n",
    "print(score.mean())"
   ]
  },
  {
   "cell_type": "code",
   "execution_count": 58,
   "metadata": {},
   "outputs": [],
   "source": [
    "# The best model for my dataset: KNN !"
   ]
  },
  {
   "cell_type": "markdown",
   "metadata": {},
   "source": [
    "PCA (for KNN)"
   ]
  },
  {
   "cell_type": "code",
   "execution_count": 59,
   "metadata": {},
   "outputs": [],
   "source": [
    "from sklearn.decomposition import PCA\n",
    "pca = PCA(n_components=2)\n",
    "\n",
    "X_train_pca = pca.fit_transform(X_train)\n",
    "X_test_pca = pca.transform(X_test)"
   ]
  },
  {
   "cell_type": "code",
   "execution_count": 60,
   "metadata": {},
   "outputs": [
    {
     "name": "stdout",
     "output_type": "stream",
     "text": [
      "original shape:  (1340, 20)\n",
      "transformed shape:   (1340, 2)\n"
     ]
    }
   ],
   "source": [
    "print(\"original shape: \", X_train.shape)\n",
    "print(\"transformed shape:  \", X_train_pca.shape)"
   ]
  },
  {
   "cell_type": "code",
   "execution_count": 63,
   "metadata": {},
   "outputs": [],
   "source": [
    "d_range = list(range(1, 20))\n",
    "d_scores = []\n",
    "for d in d_range:\n",
    "    pca = PCA(n_components=d)\n",
    "    X_train_pca = pca.fit_transform(X_train)\n",
    "    X_test_pca = pca.transform(X_test)\n",
    "    knn = KNeighborsClassifier(n_neighbors=30) \n",
    "    knn.fit(X_train_pca, y_train)\n",
    "    scores = knn.score(X_test_pca, y_test)\n",
    "    d_scores.append(scores.mean())"
   ]
  },
  {
   "cell_type": "code",
   "execution_count": 65,
   "metadata": {},
   "outputs": [
    {
     "data": {
      "text/plain": [
       "Text(0,0.5,'SCORE')"
      ]
     },
     "execution_count": 65,
     "metadata": {},
     "output_type": "execute_result"
    },
    {
     "data": {
      "image/png": "[encoded data removed]",
      "text/plain": [
       "<Figure size 432x288 with 1 Axes>"
      ]
     },
     "metadata": {
      "needs_background": "light"
     },
     "output_type": "display_data"
    }
   ],
   "source": [
    "plt.plot(d_range, d_scores)\n",
    "plt.xlabel('n_components value in PCA')\n",
    "plt.ylabel('SCORE')"
   ]
  },
  {
   "cell_type": "markdown",
   "metadata": {},
   "source": [
    "**Error models**"
   ]
  },
  {
   "cell_type": "markdown",
   "metadata": {},
   "source": [
    "- Classification accuracy"
   ]
  },
  {
   "cell_type": "code",
   "execution_count": 66,
   "metadata": {},
   "outputs": [
    {
     "name": "stdout",
     "output_type": "stream",
     "text": [
      "0.9015151515151515\n"
     ]
    }
   ],
   "source": [
    "# calculate accuracy\n",
    "print(metrics.accuracy_score(y_test, y_pred))"
   ]
  },
  {
   "cell_type": "code",
   "execution_count": 67,
   "metadata": {},
   "outputs": [
    {
     "name": "stdout",
     "output_type": "stream",
     "text": [
      "KNeighborsClassifier(algorithm='auto', leaf_size=30, metric='minkowski',\n",
      "           metric_params=None, n_jobs=1, n_neighbors=30, p=2,\n",
      "           weights='uniform')\n"
     ]
    }
   ],
   "source": [
    "# with pca\n",
    "\n",
    "pca = PCA(n_components=3)\n",
    "X_train_pca = pca.fit_transform(X_train)\n",
    "X_test_pca = pca.transform(X_test)\n",
    "knn = KNeighborsClassifier(n_neighbors=30) \n",
    "knn.fit(X_train_pca, y_train)\n",
    "\n",
    "print(knn)"
   ]
  },
  {
   "cell_type": "code",
   "execution_count": 78,
   "metadata": {},
   "outputs": [
    {
     "name": "stdout",
     "output_type": "stream",
     "text": [
      "0.9287878787878788\n"
     ]
    }
   ],
   "source": [
    "y_pred_pca = knn.predict(X_test_pca)\n",
    "print(metrics.accuracy_score(y_test, y_pred_pca))"
   ]
  },
  {
   "cell_type": "code",
   "execution_count": 80,
   "metadata": {},
   "outputs": [
    {
     "data": {
      "text/plain": [
       "2    199\n",
       "0    158\n",
       "1    152\n",
       "3    151\n",
       "Name: price_range, dtype: int64"
      ]
     },
     "execution_count": 80,
     "metadata": {},
     "output_type": "execute_result"
    }
   ],
   "source": [
    "# Distribution of results of the testing set. \n",
    "y_test.value_counts()"
   ]
  },
  {
   "cell_type": "code",
   "execution_count": 83,
   "metadata": {},
   "outputs": [],
   "source": [
    "# Null accuracy: accuracy that could be achieved by always predicting the most frequent class."
   ]
  },
  {
   "cell_type": "code",
   "execution_count": 84,
   "metadata": {},
   "outputs": [
    {
     "data": {
      "text/plain": [
       "2    0.301515\n",
       "0    0.239394\n",
       "1    0.230303\n",
       "3    0.228788\n",
       "Name: price_range, dtype: float64"
      ]
     },
     "execution_count": 84,
     "metadata": {},
     "output_type": "execute_result"
    }
   ],
   "source": [
    "y_test.value_counts().head() / len(y_test)"
   ]
  },
  {
   "cell_type": "code",
   "execution_count": 86,
   "metadata": {},
   "outputs": [
    {
     "name": "stdout",
     "output_type": "stream",
     "text": [
      "True: [1 1 2 1 1 1 2 1 1 1 0 1 1 1 1 0 0 2 0 1 3 1 2 3 2]\n",
      "Pred: [1 1 2 1 0 1 2 1 1 1 0 1 1 1 1 0 0 2 1 1 3 0 2 3 2]\n"
     ]
    }
   ],
   "source": [
    "# Comparing the true and predicted response values\n",
    "\n",
    "# print the first 25 true and predicted responses\n",
    "print('True:', y_test.values[0:25])\n",
    "print('Pred:', y_pred_pca[0:25])"
   ]
  },
  {
   "cell_type": "markdown",
   "metadata": {},
   "source": [
    "\"types\" of errors"
   ]
  },
  {
   "cell_type": "markdown",
   "metadata": {},
   "source": [
    "- Confusion matrix"
   ]
  },
  {
   "cell_type": "markdown",
   "metadata": {},
   "source": [
    "- f score"
   ]
  },
  {
   "cell_type": "markdown",
   "metadata": {},
   "source": [
    "- ROC Curve and Area Under the Curve (AUC)"
   ]
  },
  {
   "cell_type": "code",
   "execution_count": null,
   "metadata": {},
   "outputs": [],
   "source": []
  }
 ],
 "metadata": {
  "kernelspec": {
   "display_name": "Python 3",
   "language": "python",
   "name": "python3"
  },
  "language_info": {
   "codemirror_mode": {
    "name": "ipython",
    "version": 3
   },
   "file_extension": ".py",
   "mimetype": "text/x-python",
   "name": "python",
   "nbconvert_exporter": "python",
   "pygments_lexer": "ipython3",
   "version": "3.7.0"
  }
 },
 "nbformat": 4,
 "nbformat_minor": 2
}
